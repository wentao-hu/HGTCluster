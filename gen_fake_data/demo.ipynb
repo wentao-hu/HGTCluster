{
 "cells": [
  {
   "cell_type": "code",
   "execution_count": 1,
   "id": "71f26e4e",
   "metadata": {},
   "outputs": [
    {
     "name": "stderr",
     "output_type": "stream",
     "text": [
      "2023-08-17 14:31:05.546250: I tensorflow/core/platform/cpu_feature_guard.cc:182] This TensorFlow binary is optimized to use available CPU instructions in performance-critical operations.\n",
      "To enable the following instructions: AVX2 FMA, in other operations, rebuild TensorFlow with the appropriate compiler flags.\n"
     ]
    },
    {
     "name": "stdout",
     "output_type": "stream",
     "text": [
      "2.13.0\n",
      "most time we use tf1, so we must disable_v2_behavior\n",
      "WARNING:tensorflow:From /Users/steven/anaconda3/lib/python3.10/site-packages/tensorflow/python/compat/v2_compat.py:107: disable_resource_variables (from tensorflow.python.ops.variable_scope) is deprecated and will be removed in a future version.\n",
      "Instructions for updating:\n",
      "non-resource variables are not supported in the long term\n"
     ]
    }
   ],
   "source": [
    "import tensorflow \n",
    "print(tensorflow.__version__)\n",
    "print('most time we use tf1, so we must disable_v2_behavior')\n",
    "import tensorflow.compat.v1 as tf\n",
    "tf.disable_v2_behavior()"
   ]
  },
  {
   "cell_type": "code",
   "execution_count": 13,
   "id": "9ef8d7a4-a084-4608-b442-f3e9e90846f7",
   "metadata": {},
   "outputs": [
    {
     "name": "stdout",
     "output_type": "stream",
     "text": [
      "[[-0.65205836  0.8944442   0.90172577 -0.72337866]\n",
      " [-0.0388748  -0.01802546  0.54750013  0.25059366]\n",
      " [ 0.12346506  0.64824367 -0.29742676 -0.11935616]]\n",
      "1.8612249\n"
     ]
    }
   ],
   "source": [
    "with tf.variable_scope('cluster_center', reuse=tf.AUTO_REUSE):\n",
    "    ref = tf.get_variable(name=\"_emb\", shape=[3, 4],initializer=tf.glorot_uniform_initializer())\n",
    "\n",
    "init = tf.global_variables_initializer()\n",
    "with tf.Session() as sess:\n",
    "    sess.run(init)\n",
    "    print(sess.run(ref))\n",
    "    print(sess.run(tf.norm(ref)))"
   ]
  },
  {
   "cell_type": "code",
   "execution_count": 10,
   "id": "a3247c7c",
   "metadata": {},
   "outputs": [
    {
     "name": "stdout",
     "output_type": "stream",
     "text": [
      "1.4866769\n",
      "[[12.473855  12.666567  11.667095  12.338736 ]\n",
      " [ 7.4149895  7.9197845  8.073525   7.636393 ]\n",
      " [14.6843605 15.720445  15.27478   14.632128 ]]\n",
      "41.902107\n",
      "cluster_center/_emb:0\n",
      "[]\n"
     ]
    }
   ],
   "source": [
    "# a = tf.Variable([[1,1,1,1],[2,2,2,2],[3,3,3,3]],dtype=tf.float32)  # batch_size*dim\n",
    "# a=tf.random.normal(shape=[3,4])\n",
    "# import tensorflow as tf\n",
    "with tf.variable_scope('cluster_center', reuse=tf.AUTO_REUSE):\n",
    "    ref = tf.get_variable(name=\"_emb\", shape=[3, 4],initializer=tf.glorot_uniform_initializer())\n",
    "norm1= tf.norm(ref)\n",
    "\n",
    "    \n",
    "indices = tf.constant([[0],[2],[0],[1],[2]])     # (update_size,1)的二维张量，不能是(update_size,)一维张量；而且每个元素大小不能超过 batch_size-1\n",
    "updates = tf.constant([[5, 5, 5, 5], [6, 6, 6, 6],\n",
    "   [7, 7, 7, 7], [8, 8, 8, 8],[9,9,9,9]],dtype=tf.float32)   # update_size * hidden_dim\n",
    "update = tf.scatter_nd_add(ref, indices, updates)\n",
    "norm2=tf.norm(ref)\n",
    "init = tf.global_variables_initializer()\n",
    "with tf.Session() as sess:\n",
    "    sess.run(init)\n",
    "    print(sess.run(norm1))\n",
    "    print(sess.run(update))\n",
    "    print(sess.run(norm2))\n",
    "    \n",
    "# for var in tf.trainable_variables():\n",
    "#     print(var)\n",
    "\n",
    "train_var = tf.get_collection(tf.compat.v1.GraphKeys.TRAINABLE_VARIABLES)\n",
    "for var in train_var:\n",
    "    print(var.name)\n",
    "    if 'cluster' in var.name:\n",
    "        train_var.remove(var)\n",
    "print(train_var)\n"
   ]
  },
  {
   "cell_type": "code",
   "execution_count": 10,
   "id": "2a0aedff-cd5e-4099-a584-0fdea0acaf7b",
   "metadata": {},
   "outputs": [
    {
     "data": {
      "text/plain": [
       "['shsh']"
      ]
     },
     "execution_count": 10,
     "metadata": {},
     "output_type": "execute_result"
    }
   ],
   "source": [
    "li = ['xa','shsh','xb']\n",
    "for ele in li:\n",
    "    if 'x' in ele:\n",
    "        li.remove(ele)\n",
    "li"
   ]
  },
  {
   "cell_type": "code",
   "execution_count": null,
   "id": "9eed3ace",
   "metadata": {},
   "outputs": [],
   "source": []
  }
 ],
 "metadata": {
  "kernelspec": {
   "display_name": "Python 3 (ipykernel)",
   "language": "python",
   "name": "python3"
  },
  "language_info": {
   "codemirror_mode": {
    "name": "ipython",
    "version": 3
   },
   "file_extension": ".py",
   "mimetype": "text/x-python",
   "name": "python",
   "nbconvert_exporter": "python",
   "pygments_lexer": "ipython3",
   "version": "3.10.9"
  }
 },
 "nbformat": 4,
 "nbformat_minor": 5
}
