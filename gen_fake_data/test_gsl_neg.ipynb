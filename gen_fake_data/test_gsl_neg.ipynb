{
 "cells": [
  {
   "cell_type": "code",
   "execution_count": 1,
   "id": "3c9947b9-5bcf-409c-a7e5-62087a2221c1",
   "metadata": {},
   "outputs": [
    {
     "data": {
      "text/plain": [
       "{'src': [['src_node_user'],\n",
       "  ['src_node_user-hop0_out_pos_follow_note',\n",
       "   'src_node_user-hop0_out_pos_follow_user'],\n",
       "  ['src_node_user-hop0_out_pos_follow_note-hop1_in_pos_follow_note',\n",
       "   'src_node_user-hop0_out_pos_follow_user-hop1_in_pos_follow_user']],\n",
       " 'dst': [['dst_node_author'],\n",
       "  ['dst_node_author-hop0_in_pos_follow_user'],\n",
       "  ['dst_node_author-hop0_in_pos_follow_user-hop1_out_pos_follow_note',\n",
       "   'dst_node_author-hop0_in_pos_follow_user-hop1_out_pos_follow_user']],\n",
       " 'neg_src': [['neg_src_node_author'],\n",
       "  ['neg_src_node_author-hop0_out_pos_follow_note',\n",
       "   'neg_src_node_author-hop0_out_pos_follow_user'],\n",
       "  ['neg_src_node_author-hop0_out_pos_follow_note-hop1_in_pos_follow_note',\n",
       "   'neg_src_node_author-hop0_out_pos_follow_user-hop1_in_pos_follow_user']],\n",
       " 'neg_dst': [['neg_dst_node_user'],\n",
       "  ['neg_dst_node_user-hop0_in_pos_follow_user'],\n",
       "  ['neg_dst_node_user-hop0_in_pos_follow_user-hop1_out_pos_follow_note',\n",
       "   'neg_dst_node_user-hop0_in_pos_follow_user-hop1_out_pos_follow_user']]}"
      ]
     },
     "execution_count": 1,
     "metadata": {},
     "output_type": "execute_result"
    }
   ],
   "source": [
    "alias_dict = {'src': [['src_node_user'], ['src_node_user-hop0_out_pos_follow_note', 'src_node_user-hop0_out_pos_follow_user'], ['src_node_user-hop0_out_pos_follow_note-hop1_in_pos_follow_note', 'src_node_user-hop0_out_pos_follow_user-hop1_in_pos_follow_user']], 'dst': [['dst_node_author'], ['dst_node_author-hop0_in_pos_follow_user'], ['dst_node_author-hop0_in_pos_follow_user-hop1_out_pos_follow_note', 'dst_node_author-hop0_in_pos_follow_user-hop1_out_pos_follow_user']], 'neg_src': [['neg_src_node_author'], ['neg_src_node_author-hop0_out_pos_follow_note', 'neg_src_node_author-hop0_out_pos_follow_user'], ['neg_src_node_author-hop0_out_pos_follow_note-hop1_in_pos_follow_note', 'neg_src_node_author-hop0_out_pos_follow_user-hop1_in_pos_follow_user']], 'neg_dst': [['neg_dst_node_user'], ['neg_dst_node_user-hop0_in_pos_follow_user'], ['neg_dst_node_user-hop0_in_pos_follow_user-hop1_out_pos_follow_note', 'neg_dst_node_user-hop0_in_pos_follow_user-hop1_out_pos_follow_user']]}\n",
    "alias_dict"
   ]
  },
  {
   "cell_type": "code",
   "execution_count": null,
   "id": "5de36353-f0b4-47c9-9bcd-f7645e314fe5",
   "metadata": {},
   "outputs": [],
   "source": [
    "alias_dict {'src': [['src_node_user'], ['src_node_user-hop0_out_pos_follow_note', 'src_node_user-hop0_out_pos_follow_user'], ['src_node_user-hop0_out_pos_follow_note-hop1_in_pos_follow_note', 'src_node_user-hop0_out_pos_follow_user-hop1_in_pos_follow_user']], 'dst': [['dst_node_author'], ['dst_node_author-hop0_in_pos_follow_user'], ['dst_node_author-hop0_in_pos_follow_user-hop1_out_pos_follow_note', 'dst_node_author-hop0_in_pos_follow_user-hop1_out_pos_follow_user']], 'neg_src': [['neg_src_node_user'], ['neg_src_node_user-hop0_out_pos_follow_note', 'neg_src_node_user-hop0_out_pos_follow_user'], ['neg_src_node_user-hop0_out_pos_follow_note-hop1_in_pos_follow_note', 'neg_src_node_user-hop0_out_pos_follow_user-hop1_in_pos_follow_user']], 'neg_dst': [['neg_dst_node_author'], ['neg_dst_node_author-hop0_in_pos_follow_user'], ['neg_dst_node_author-hop0_in_pos_follow_user-hop1_out_pos_follow_note', 'neg_dst_node_author-hop0_in_pos_follow_user-hop1_out_pos_follow_user']]}"
   ]
  },
  {
   "cell_type": "code",
   "execution_count": 1,
   "id": "09af84ba-2b9a-495d-bd66-d074284dfc43",
   "metadata": {},
   "outputs": [
    {
     "ename": "SyntaxError",
     "evalue": "invalid syntax (1791724416.py, line 1)",
     "output_type": "error",
     "traceback": [
      "\u001b[0;36m  Cell \u001b[0;32mIn[1], line 1\u001b[0;36m\u001b[0m\n\u001b[0;31m    data dict= {'neg_src_node_user-hop0_out_pos_follow_user-hop1_in_pos_follow_user': <graphlearn.python.nn.data.Data object at 0x7ff7856d1bd0>, 'dst_node_author-hop0_in_pos_follow_user-hop1_out_pos_follow_user': <graphlearn.python.nn.data.Data object at 0x7ff7856d1a90>, 'dst_node_author-hop0_in_pos_follow_user-hop1_out_pos_follow_note': <graphlearn.python.nn.data.Data object at 0x7ff7856d1a50>, 'dst_node_author-hop0_in_pos_follow_user': <graphlearn.python.nn.data.Data object at 0x7ff7856c4310>, 'neg_dst_node_author-hop0_in_pos_follow_user-hop1_out_pos_follow_note': <graphlearn.python.nn.data.Data object at 0x7ff7856d1c50>, 'src_node_user-hop0_out_pos_follow_note': <graphlearn.python.nn.data.Data object at 0x7ff7856c4c90>, 'neg_src_node_user-hop0_out_pos_follow_note': <graphlearn.python.nn.data.Data object at 0x7ff7856d1ad0>, 'neg_dst_node_author': <graphlearn.python.nn.data.Data object at 0x7ff7856c4990>, 'src_node_user-hop0_out_pos_follow_user': <graphlearn.python.nn.data.Data object at 0x7ff7856c46d0>, 'train-pos_follow_user': <graphlearn.python.nn.data.Data object at 0x7ff789732fd0>, 'dst_node_author': <graphlearn.python.nn.data.Data object at 0x7ff7856c4790>, 'src_node_user-hop0_out_pos_follow_note-hop1_in_pos_follow_note': <graphlearn.python.nn.data.Data object at 0x7ff7856c49d0>, 'neg_src_node_user-hop0_out_pos_follow_note-hop1_in_pos_follow_note': <graphlearn.python.nn.data.Data object at 0x7ff7856d1b90>, 'neg_src_node_user': <graphlearn.python.nn.data.Data object at 0x7ff7856c4410>, 'neg_dst_node_author-hop0_in_pos_follow_user': <graphlearn.python.nn.data.Data object at 0x7ff7856d1c10>, 'src_node_user': <graphlearn.python.nn.data.Data object at 0x7ff789732b10>, 'neg_dst_node_author-hop0_in_pos_follow_user-hop1_out_pos_follow_user': <graphlearn.python.nn.data.Data object at 0x7ff7856d1c90>, 'src_node_user-hop0_out_pos_follow_user-hop1_in_pos_follow_user': <graphlearn.python.nn.data.Data object at 0x7ff7856c47d0>, 'neg_src_node_user-hop0_out_pos_follow_user': <graphlearn.python.nn.data.Data object at 0x7ff7856d1b10>}\u001b[0m\n\u001b[0m         ^\u001b[0m\n\u001b[0;31mSyntaxError\u001b[0m\u001b[0;31m:\u001b[0m invalid syntax\n"
     ]
    }
   ],
   "source": [
    "data dict= {'neg_src_node_user-hop0_out_pos_follow_user-hop1_in_pos_follow_user': <graphlearn.python.nn.data.Data object at 0x7ff7856d1bd0>, \n",
    "            'dst_node_author-hop0_in_pos_follow_user-hop1_out_pos_follow_user':<graphlearn.python.nn.data.Data object at 0x7ff7856d1a90>', \n",
    "'dst_node_author-hop0_in_pos_follow_user-hop1_out_pos_follow_note': '<graphlearn.python.nn.data.Data object at 0x7ff7856d1a50>',\n",
    "            'dst_node_author-hop0_in_pos_follow_user': '<graphlearn.python.nn.data.Data object at 0x7ff7856c4310>', \n",
    "            'neg_dst_node_author-hop0_in_pos_follow_user-hop1_out_pos_follow_note': '<graphlearn.python.nn.data.Data object at 0x7ff7856d1c50>',\n",
    "            'src_node_user-hop0_out_pos_follow_note': '<graphlearn.python.nn.data.Data object at 0x7ff7856c4c90>', \n",
    "            'neg_src_node_user-hop0_out_pos_follow_note': '<graphlearn.python.nn.data.Data object at 0x7ff7856d1ad0>', \n",
    "            'neg_dst_node_author': '<graphlearn.python.nn.data.Data object at 0x7ff7856c4990>', \n",
    "            'src_node_user-hop0_out_pos_follow_user': '<graphlearn.python.nn.data.Data object at 0x7ff7856c46d0>', \n",
    "            'train-pos_follow_user': '<graphlearn.python.nn.data.Data object at 0x7ff789732fd0>',\n",
    "            'dst_node_author': '<graphlearn.python.nn.data.Data object at 0x7ff7856c4790>', \n",
    "            'src_node_user-hop0_out_pos_follow_note-hop1_in_pos_follow_note': '<graphlearn.python.nn.data.Data object at 0x7ff7856c49d0>', \n",
    "            'neg_src_node_user-hop0_out_pos_follow_note-hop1_in_pos_follow_note': '<graphlearn.python.nn.data.Data object at 0x7ff7856d1b90>', \n",
    "            'neg_src_node_user': '<graphlearn.python.nn.data.Data object at 0x7ff7856c4410>', 'neg_dst_node_author-hop0_in_pos_follow_user': <graphlearn.python.nn.data.Data object at 0x7ff7856d1c10>, 'src_node_user': <graphlearn.python.nn.data.Data object at 0x7ff789732b10>, 'neg_dst_node_author-hop0_in_pos_follow_user-hop1_out_pos_follow_user': <graphlearn.python.nn.data.Data object at 0x7ff7856d1c90>, 'src_node_user-hop0_out_pos_follow_user-hop1_in_pos_follow_user': <graphlearn.python.nn.data.Data object at 0x7ff7856c47d0>, 'neg_src_node_user-hop0_out_pos_follow_user': <graphlearn.python.nn.data.Data object at 0x7ff7856d1b10>}"
   ]
  },
  {
   "cell_type": "code",
   "execution_count": null,
   "id": "a6a38742-8032-43e8-9be0-3148df7c72f3",
   "metadata": {},
   "outputs": [],
   "source": []
  }
 ],
 "metadata": {
  "kernelspec": {
   "display_name": "Python 3 (ipykernel)",
   "language": "python",
   "name": "python3"
  },
  "language_info": {
   "codemirror_mode": {
    "name": "ipython",
    "version": 3
   },
   "file_extension": ".py",
   "mimetype": "text/x-python",
   "name": "python",
   "nbconvert_exporter": "python",
   "pygments_lexer": "ipython3",
   "version": "3.10.9"
  }
 },
 "nbformat": 4,
 "nbformat_minor": 5
}
