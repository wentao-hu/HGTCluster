{
 "cells": [
  {
   "cell_type": "markdown",
   "id": "c72d7c6d-88ab-4522-b61a-45503a03428f",
   "metadata": {},
   "source": [
    "## generate fake node data"
   ]
  },
  {
   "cell_type": "code",
   "execution_count": 19,
   "id": "13f3a400-2dba-4b4b-884a-db27eadf9890",
   "metadata": {},
   "outputs": [],
   "source": [
    "import numpy as np\n",
    "import pandas as pd\n",
    "from random import choice\n",
    "import random\n",
    "import os\n",
    "import sys\n",
    "\n",
    "user_ids = list(range(1000))\n",
    "note_ids = list(range(1000,2000))"
   ]
  },
  {
   "cell_type": "code",
   "execution_count": 20,
   "id": "c02894d7-5838-4eab-9dbf-4e643d0aae87",
   "metadata": {},
   "outputs": [],
   "source": [
    "user_list = []\n",
    "for id in user_ids:\n",
    "    age = random.randint(10,50)\n",
    "    user_data = (id,age)\n",
    "    user_list.append(user_data)"
   ]
  },
  {
   "cell_type": "code",
   "execution_count": 21,
   "id": "7165444e-5829-4066-8eee-684bf3648e17",
   "metadata": {},
   "outputs": [],
   "source": [
    "note_list=[]\n",
    "for id in note_ids:\n",
    "    views = random.randint(200,1000)\n",
    "    data = (id,views)\n",
    "    note_list.append(data)"
   ]
  },
  {
   "cell_type": "code",
   "execution_count": 22,
   "id": "b9bb06b5-6f31-45a9-a1fc-954ac4e99242",
   "metadata": {},
   "outputs": [
    {
     "name": "stdout",
     "output_type": "stream",
     "text": [
      "unit for user 50\n"
     ]
    }
   ],
   "source": [
    "unit = len(user_list)//20\n",
    "print('user number of each part: ',unit)\n",
    "current_path = sys.path[0]\n",
    "user_node_path = os.path.abspath(os.path.join(current_path,'..'))+'/data/dist/fakeuser'\n",
    "if not os.path.exists(user_node_path):\n",
    "    os.makedirs(user_node_path)\n",
    "\n",
    "for i in range(20):\n",
    "    random.shuffle(user_list)\n",
    "    part_i= user_list[i*unit:(i+1)*unit]\n",
    "   \n",
    "    with open('{}/part-{}.csv'.format(user_node_path, i),\"w\") as pos_f:\n",
    "        pos_f.write('id:int64'+'\\t'+'feature:string'+'\\n')\n",
    "    with open('{}/part-{}.csv'.format(user_node_path, i),\"a\") as pos_f:\n",
    "        for line in part_i:\n",
    "            pos_f.write(str(line[0])+'\\t'+str(line[1]))\n",
    "            pos_f.write('\\n')"
   ]
  },
  {
   "cell_type": "code",
   "execution_count": 23,
   "id": "509c0ce1-ad53-4bdd-9b81-020f65ea6645",
   "metadata": {},
   "outputs": [
    {
     "name": "stdout",
     "output_type": "stream",
     "text": [
      "note number of each part:  50\n"
     ]
    }
   ],
   "source": [
    "unit = len(note_list)//20\n",
    "print('note number of each part: ',unit)\n",
    "current_path = sys.path[0]\n",
    "note_node_path = os.path.abspath(os.path.join(current_path,'..'))+'/data/dist/fakenote'\n",
    "if not os.path.exists(note_node_path):\n",
    "    os.makedirs(note_node_path)\n",
    "\n",
    "for i in range(20):\n",
    "    random.shuffle(note_list)\n",
    "    part_i= note_list[i*unit:(i+1)*unit]\n",
    "   \n",
    "    with open('{}/part-{}.csv'.format(note_node_path,i),\"w\") as pos_f:\n",
    "        pos_f.write('id:int64'+'\\t'+'feature:string'+'\\n')\n",
    "    with open('{}/part-{}.csv'.format(note_node_path,i),\"a\") as pos_f:\n",
    "        for line in part_i:\n",
    "            pos_f.write(str(line[0])+'\\t'+str(line[1]))\n",
    "            pos_f.write('\\n')"
   ]
  }
 ],
 "metadata": {
  "kernelspec": {
   "display_name": "Python 3 (ipykernel)",
   "language": "python",
   "name": "python3"
  },
  "language_info": {
   "codemirror_mode": {
    "name": "ipython",
    "version": 3
   },
   "file_extension": ".py",
   "mimetype": "text/x-python",
   "name": "python",
   "nbconvert_exporter": "python",
   "pygments_lexer": "ipython3",
   "version": "3.9.13"
  }
 },
 "nbformat": 4,
 "nbformat_minor": 5
}
