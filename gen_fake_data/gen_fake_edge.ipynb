{
 "cells": [
  {
   "cell_type": "markdown",
   "id": "c72d7c6d-88ab-4522-b61a-45503a03428f",
   "metadata": {},
   "source": [
    "## generate fake edge"
   ]
  },
  {
   "cell_type": "code",
   "execution_count": 1,
   "id": "13f3a400-2dba-4b4b-884a-db27eadf9890",
   "metadata": {},
   "outputs": [],
   "source": [
    "import numpy as np\n",
    "import pandas as pd\n",
    "from random import choice\n",
    "user_ids = list(range(10000))\n",
    "note_ids = list(range(10000,20000))\n",
    "author_ids = list(range(10000))"
   ]
  },
  {
   "cell_type": "code",
   "execution_count": 2,
   "id": "ac64f12a-fcfb-4768-aabe-0546d44818d3",
   "metadata": {},
   "outputs": [
    {
     "name": "stdout",
     "output_type": "stream",
     "text": [
      "0 12\n",
      "1000 11\n",
      "2000 15\n",
      "3000 16\n",
      "4000 17\n",
      "5000 14\n",
      "6000 14\n",
      "7000 15\n",
      "8000 16\n",
      "9000 18\n",
      "end of for loop\n",
      "[(7137, 12893), (3298, 18989), (6533, 11466), (1304, 16704), (4270, 16870), (4509, 19138), (6601, 16296), (5696, 13975), (3017, 17249), (4036, 10058), (5125, 14940), (3447, 16079), (6157, 18534), (6599, 19633), (310, 18475), (8650, 10374), (7304, 16978), (5346, 13596), (6528, 14505), (2985, 11295)]\n",
      "[(0, 10076), (0, 10538), (0, 10992), (0, 11114), (0, 12310), (0, 12760), (0, 13388), (0, 14432), (0, 15864), (0, 16837), (0, 16838), (0, 18167), (0, 19693), (1, 10596), (1, 11201), (1, 11248), (1, 11959), (1, 12234), (1, 12398), (1, 12575)]\n"
     ]
    }
   ],
   "source": [
    "# 生成fake pos follow note 关系\n",
    "follow_note = set()  # follow_note是一个二元组，不重复\n",
    "for id in user_ids:\n",
    "    neigh_count = 0\n",
    "    max_neigh_count = np.random.randint(10,20)\n",
    "    if id%1000==0:\n",
    "       print(id,max_neigh_count) \n",
    "    while neigh_count<= max_neigh_count:   # 每个user在follow note中有100-200个正边\n",
    "        note = np.random.randint(10000,20000)\n",
    "        edge = (id, note)\n",
    "        if edge not in follow_note:\n",
    "            follow_note.add(edge)\n",
    "            neigh_count+=1\n",
    "print('end of for loop')\n",
    "pos_follow_note_list = list(follow_note)\n",
    "print(pos_follow_note_list[:20])\n",
    "new_pos_list = sorted(pos_follow_note_list, key=lambda k: (k[0],k[1]))\n",
    "print(new_pos_list[:20])"
   ]
  },
  {
   "cell_type": "code",
   "execution_count": 3,
   "id": "db0d4877-b0a5-44f1-b663-7dd36631d7a8",
   "metadata": {},
   "outputs": [],
   "source": [
    "# neg_follow_note = set()  # follow_note是一个二元组，不重复\n",
    "    \n",
    "# for id in user_ids:\n",
    "#     neigh_count = 0\n",
    "#     while neigh_count<=19:  # 每个user有10个正边，20个负边\n",
    "#         note = choice(note_ids)\n",
    "#         edge = (id, note)\n",
    "#         if edge not in neg_follow_note and edge not in follow_note:\n",
    "#             neg_follow_note.add(edge)\n",
    "#             neigh_count+=1\n",
    "# neg_follow_note_list = list(neg_follow_note)\n",
    "# print(neg_follow_note_list[:20])\n",
    "# new_neg_list = sorted(neg_follow_note_list, key=lambda k: (k[0],k[1]))\n",
    "# print(new_neg_list[:20])"
   ]
  },
  {
   "cell_type": "code",
   "execution_count": 3,
   "id": "3ed0745e-d06a-4f83-bdcb-c880d4c780be",
   "metadata": {},
   "outputs": [
    {
     "name": "stdout",
     "output_type": "stream",
     "text": [
      "7733\n"
     ]
    }
   ],
   "source": [
    "pos_unit = len(pos_follow_note_list)//20\n",
    "# neg_unit = len(neg_follow_note_list)//20\n",
    "print(pos_unit)\n",
    "#print(neg_unit)\n",
    "for i in range(20):\n",
    "    pos_part_i= pos_follow_note_list[i*pos_unit:(i+1)*pos_unit]\n",
    "    # print(pos_part_i)\n",
    "    with open('fakeedge5/pos/fake_follow_note5/part-{}.csv'.format(i),\"w\") as pos_f:\n",
    "        pos_f.write('src_id:int64'+'\\t'+'dst_id:int64'+'\\t'+'weight:float'+'\\t'+'label:int32'+'\\n')\n",
    "    with open('fakeedge5/pos/fake_follow_note5/part-{}.csv'.format(i),\"a\") as pos_f:\n",
    "        for line in pos_part_i:\n",
    "            pos_f.write(str(line[0])+'\\t'+str(line[1])+'\\t'+'1.0'+'\\t'+'1')\n",
    "            pos_f.write('\\n')\n",
    "    \n",
    "    # neg_part_i= neg_follow_note_list[i*neg_unit:(i+1)*neg_unit]\n",
    "    # with open('fakeedge3/neg/fake_follow_note3/part-{}.csv'.format(i),\"w\") as neg_f:\n",
    "    #     neg_f.write('src_id:int64'+'\\t'+'dst_id:int64'+'\\t'+'weight:float'+'\\t'+'label:int32'+'\\n')\n",
    "    # with open('fakeedge3/neg/fake_follow_note3/part-{}.csv'.format(i),\"a\") as neg_f:\n",
    "    #     for line in neg_part_i:\n",
    "    #         neg_f.write(str(line[0])+'\\t'+str(line[1])+'\\t'+'1.0'+'\\t'+'1')\n",
    "    #         neg_f.write('\\n')"
   ]
  },
  {
   "cell_type": "code",
   "execution_count": 4,
   "id": "4b580aa6-59be-4d05-a92d-67c3ed80c0f5",
   "metadata": {},
   "outputs": [
    {
     "name": "stdout",
     "output_type": "stream",
     "text": [
      "0 8\n",
      "1000 7\n",
      "2000 9\n",
      "3000 8\n",
      "4000 5\n",
      "5000 8\n",
      "6000 5\n",
      "7000 6\n",
      "8000 9\n",
      "9000 6\n",
      "end\n",
      "[(1868, 2517), (1059, 6320), (159, 4343), (5608, 2077), (8646, 9501), (1996, 982), (7990, 1468), (1458, 9974), (367, 8429), (2421, 9267), (4880, 1523), (5162, 455), (5124, 4135), (9725, 82), (7835, 7946), (1639, 9231), (233, 8614), (4908, 538), (5183, 4715), (9749, 1607)]\n",
      "[(0, 640), (0, 2700), (0, 2795), (0, 3116), (0, 3624), (0, 5815), (0, 6610), (0, 6887), (0, 8184), (1, 1700), (1, 2364), (1, 3948), (1, 5237), (1, 5492), (1, 7611), (1, 7667), (1, 8262), (1, 9292), (2, 34), (2, 269)]\n"
     ]
    }
   ],
   "source": [
    "# 生成fake pos follow author 关系\n",
    "follow_author = set()  # follow_note是一个二元组，不重复\n",
    "\n",
    "for id in user_ids:\n",
    "    neigh_count = 0\n",
    "    max_neigh_count = np.random.randint(5,10) \n",
    "    if id%1000==0:\n",
    "       print(id,max_neigh_count) \n",
    "    while neigh_count<= max_neigh_count:  # 每个user在follow author中有10个正边\n",
    "        author_id = choice(author_ids)\n",
    "        edge = (id, author_id)\n",
    "        if edge not in follow_author and author_id!=id:\n",
    "            follow_author.add(edge)\n",
    "            neigh_count+=1\n",
    "print('end')\n",
    "pos_follow_author_list = list(follow_author)\n",
    "print(pos_follow_author_list[:20])\n",
    "new_list = sorted(pos_follow_author_list, key=lambda k: (k[0],k[1]))\n",
    "print(new_list[:20])"
   ]
  },
  {
   "cell_type": "code",
   "execution_count": 6,
   "id": "4ffd2be2-8399-4f0b-a7be-83085366caa4",
   "metadata": {},
   "outputs": [],
   "source": [
    "# neg_follow_author = set()  # follow_note是一个二元组，不重复\n",
    "\n",
    "# for id in user_ids:\n",
    "#     neigh_count = 0\n",
    "#     while neigh_count<=19:  # 每个user在follow_author中有10个正边和40个负边\n",
    "#         author_id = choice(author_ids)\n",
    "#         edge = (id, author_id)\n",
    "#         if edge not in neg_follow_author and edge not in follow_author and author_id!=id:\n",
    "#             neg_follow_author.add(edge)\n",
    "#             neigh_count+=1\n",
    "# neg_follow_author_list = list(neg_follow_author)\n",
    "# print(neg_follow_author_list[:20])\n",
    "# new_list = sorted(neg_follow_author_list, key=lambda k: (k[0],k[1]))\n",
    "# print(new_list[:20])"
   ]
  },
  {
   "cell_type": "code",
   "execution_count": 5,
   "id": "eb5f6d31-5022-4f1d-9872-f037e5d94ca4",
   "metadata": {},
   "outputs": [
    {
     "name": "stdout",
     "output_type": "stream",
     "text": [
      "3996\n"
     ]
    }
   ],
   "source": [
    "pos_unit = len(pos_follow_author_list)//20\n",
    "# neg_unit = len(neg_follow_author_list)//20\n",
    "print(pos_unit)\n",
    "# print(neg_unit)\n",
    "for i in range(20):\n",
    "    pos_part_i= pos_follow_author_list[pos_unit*i:pos_unit*(i+1)]\n",
    "    # print(pos_part_i)\n",
    "    with open('fakeedge5/pos/fake_follow_author5/part-{}.csv'.format(i),\"w\") as pos_f:\n",
    "        pos_f.write('src_id:int64'+'\\t'+'dst_id:int64'+'\\t'+'weight:float'+'\\t'+'label:int32'+'\\n')\n",
    "    with open('fakeedge5/pos/fake_follow_author5/part-{}.csv'.format(i),\"a\") as pos_f:\n",
    "        for line in pos_part_i:\n",
    "            pos_f.write(str(line[0])+'\\t'+str(line[1])+'\\t'+'1.0'+'\\t'+'1')\n",
    "            pos_f.write('\\n')\n",
    "    \n",
    "    # neg_part_i= neg_follow_author_list[neg_unit*i:neg_unit*(i+1)]\n",
    "    # with open('fakeedge3/neg/fake_follow_author3/part-{}.csv'.format(i),\"w\") as neg_f:\n",
    "    #     neg_f.write('src_id:int64'+'\\t'+'dst_id:int64'+'\\t'+'weight:float'+'\\t'+'label:int32'+'\\n')\n",
    "    # with open('fakeedge3/neg/fake_follow_author3/part-{}.csv'.format(i),\"a\") as neg_f:\n",
    "    #     for line in neg_part_i:\n",
    "    #         neg_f.write(str(line[0])+'\\t'+str(line[1])+'\\t'+'1.0'+'\\t'+'1')\n",
    "    #         neg_f.write('\\n')"
   ]
  },
  {
   "cell_type": "code",
   "execution_count": 8,
   "id": "c02894d7-5838-4eab-9dbf-4e643d0aae87",
   "metadata": {},
   "outputs": [
    {
     "name": "stdout",
     "output_type": "stream",
     "text": [
      "0 7\n",
      "1000 5\n",
      "2000 4\n",
      "3000 6\n",
      "4000 3\n",
      "5000 5\n",
      "6000 7\n",
      "7000 5\n",
      "8000 3\n",
      "9000 7\n",
      "end of for loop\n",
      "[(5711, 13344), (2344, 12834), (895, 11581), (9298, 14382), (894, 16052), (9664, 13951), (7549, 19253), (6393, 13149), (2931, 11059), (8953, 10183), (9417, 17457), (683, 10355), (1669, 14358), (2121, 19363), (2479, 19825), (860, 11745), (4504, 15761), (2654, 19826), (5829, 14504), (8695, 11056)]\n",
      "[(0, 10130), (0, 10366), (0, 10616), (0, 11850), (0, 12471), (0, 14312), (0, 15120), (0, 17744), (1, 13742), (1, 14897), (1, 15914), (1, 16263), (1, 17474), (1, 18038), (1, 19209), (1, 19959), (2, 11476), (2, 11785), (2, 15084), (2, 16069)]\n"
     ]
    }
   ],
   "source": [
    "# 生成fake share note 关系\n",
    "share_note = set()  # share_note是一个二元组，不重复\n",
    "for id in user_ids:\n",
    "    neigh_count = 0\n",
    "    max_neigh_count = np.random.randint(3,8)\n",
    "    if id%1000==0:\n",
    "       print(id,max_neigh_count) \n",
    "    while neigh_count<= max_neigh_count:   # share note中有3-8个正边\n",
    "        note = np.random.randint(10000,20000)\n",
    "        edge = (id, note)\n",
    "        if edge not in follow_note:\n",
    "            share_note.add(edge)\n",
    "            neigh_count+=1\n",
    "print('end of for loop')\n",
    "pos_share_note_list = list(share_note)\n",
    "print(pos_share_note_list[:20])\n",
    "new_pos_list = sorted(pos_share_note_list, key=lambda k: (k[0],k[1]))\n",
    "print(new_pos_list[:20])"
   ]
  },
  {
   "cell_type": "code",
   "execution_count": 9,
   "id": "3e4fd4f4-97e1-4959-991f-424c82753804",
   "metadata": {},
   "outputs": [
    {
     "name": "stdout",
     "output_type": "stream",
     "text": [
      "3005\n"
     ]
    }
   ],
   "source": [
    "pos_unit = len(pos_share_note_list)//20\n",
    "# neg_unit = len(neg_follow_note_list)//20\n",
    "print(pos_unit)\n",
    "#print(neg_unit)\n",
    "for i in range(20):\n",
    "    pos_part_i= pos_share_note_list[i*pos_unit:(i+1)*pos_unit]\n",
    "    # print(pos_part_i)\n",
    "    with open('fakeedge5/pos/fake_share_note5/part-{}.csv'.format(i),\"w\") as pos_f:\n",
    "        pos_f.write('src_id:int64'+'\\t'+'dst_id:int64'+'\\t'+'weight:float'+'\\t'+'label:int32'+'\\n')\n",
    "    with open('fakeedge5/pos/fake_share_note5/part-{}.csv'.format(i),\"a\") as pos_f:\n",
    "        for line in pos_part_i:\n",
    "            pos_f.write(str(line[0])+'\\t'+str(line[1])+'\\t'+'1.0'+'\\t'+'1')\n",
    "            pos_f.write('\\n')"
   ]
  },
  {
   "cell_type": "code",
   "execution_count": null,
   "id": "606c0d14-5d01-4a69-ad19-0c5a8bce51f7",
   "metadata": {},
   "outputs": [],
   "source": []
  }
 ],
 "metadata": {
  "kernelspec": {
   "display_name": "Python 3 (ipykernel)",
   "language": "python",
   "name": "python3"
  },
  "language_info": {
   "codemirror_mode": {
    "name": "ipython",
    "version": 3
   },
   "file_extension": ".py",
   "mimetype": "text/x-python",
   "name": "python",
   "nbconvert_exporter": "python",
   "pygments_lexer": "ipython3",
   "version": "3.10.9"
  }
 },
 "nbformat": 4,
 "nbformat_minor": 5
}
