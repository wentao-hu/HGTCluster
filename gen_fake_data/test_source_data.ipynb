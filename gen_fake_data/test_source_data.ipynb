{
 "cells": [
  {
   "cell_type": "code",
   "execution_count": 25,
   "id": "6fca906d-e9a0-4f88-b6c2-2f8ab070862c",
   "metadata": {
    "tags": []
   },
   "outputs": [
    {
     "data": {
      "text/plain": [
       "'/Users/steven/Desktop'"
      ]
     },
     "execution_count": 25,
     "metadata": {},
     "output_type": "execute_result"
    }
   ],
   "source": [
    "import sys\n",
    "import os\n",
    "cur_path = sys.path[0]\n",
    "desktop = os.path.abspath(os.path.join(cur_path,'..'))\n",
    "desktop"
   ]
  },
  {
   "cell_type": "code",
   "execution_count": 26,
   "id": "45594587-7b0a-4fdb-8826-81e382df8032",
   "metadata": {
    "tags": []
   },
   "outputs": [
    {
     "data": {
      "text/plain": [
       "'/Users/steven/Desktop/user'"
      ]
     },
     "execution_count": 26,
     "metadata": {},
     "output_type": "execute_result"
    }
   ],
   "source": [
    "datapath = desktop+'/user'\n",
    "datapath"
   ]
  },
  {
   "cell_type": "code",
   "execution_count": 27,
   "id": "738501bf-07bc-45a2-8e83-1c5bf304014c",
   "metadata": {
    "tags": []
   },
   "outputs": [
    {
     "data": {
      "text/plain": [
       "['part-00000-1f18b96b-d40c-43f3-beab-899b591054fe-c000.csv',\n",
       " 'part-00001-1f18b96b-d40c-43f3-beab-899b591054fe-c000.csv',\n",
       " 'part-00002-1f18b96b-d40c-43f3-beab-899b591054fe-c000.csv',\n",
       " 'part-00003-1f18b96b-d40c-43f3-beab-899b591054fe-c000.csv',\n",
       " 'part-00004-1f18b96b-d40c-43f3-beab-899b591054fe-c000.csv',\n",
       " 'part-00005-1f18b96b-d40c-43f3-beab-899b591054fe-c000.csv',\n",
       " 'part-00006-1f18b96b-d40c-43f3-beab-899b591054fe-c000.csv',\n",
       " 'part-00007-1f18b96b-d40c-43f3-beab-899b591054fe-c000.csv',\n",
       " 'part-00008-1f18b96b-d40c-43f3-beab-899b591054fe-c000.csv',\n",
       " 'part-00009-1f18b96b-d40c-43f3-beab-899b591054fe-c000.csv.temp',\n",
       " 'part-00010-1f18b96b-d40c-43f3-beab-899b591054fe-c000.csv.temp',\n",
       " 'part-00011-1f18b96b-d40c-43f3-beab-899b591054fe-c000.csv.temp']"
      ]
     },
     "execution_count": 27,
     "metadata": {},
     "output_type": "execute_result"
    }
   ],
   "source": [
    "filenames = os.listdir(datapath)\n",
    "filenames.remove('_SUCCESS')\n",
    "filenames.remove('.ossutil_checkpoint')\n",
    "filenames.remove('ossutil_output')\n",
    "filenames.sort()\n",
    "filenames"
   ]
  },
  {
   "cell_type": "code",
   "execution_count": 28,
   "id": "c2436e4b-ec69-4f57-b006-ed42e100d911",
   "metadata": {
    "tags": []
   },
   "outputs": [
    {
     "data": {
      "text/plain": [
       "'/Users/steven/Desktop/user/part-00000-1f18b96b-d40c-43f3-beab-899b591054fe-c000.csv'"
      ]
     },
     "execution_count": 28,
     "metadata": {},
     "output_type": "execute_result"
    }
   ],
   "source": [
    "file = datapath+'/'+filenames[0]\n",
    "# file = desktop+'/'+'part-00019-1f18b96b-d40c-43f3-beab-899b591054fe-c000.csv'\n",
    "file"
   ]
  },
  {
   "cell_type": "code",
   "execution_count": 24,
   "id": "71294890-4bd9-429d-a252-293c182821b5",
   "metadata": {
    "tags": []
   },
   "outputs": [
    {
     "name": "stdout",
     "output_type": "stream",
     "text": [
      "/Users/steven/Desktop/user/part-00000-1f18b96b-d40c-43f3-beab-899b591054fe-c000.csv 1666184 0\n",
      "/Users/steven/Desktop/user/part-00001-1f18b96b-d40c-43f3-beab-899b591054fe-c000.csv 1666183 0\n",
      "/Users/steven/Desktop/user/part-00002-1f18b96b-d40c-43f3-beab-899b591054fe-c000.csv 1666179 0\n",
      "/Users/steven/Desktop/user/part-00003-1f18b96b-d40c-43f3-beab-899b591054fe-c000.csv 1666214 0\n",
      "/Users/steven/Desktop/user/part-00004-1f18b96b-d40c-43f3-beab-899b591054fe-c000.csv 1666205 0\n"
     ]
    }
   ],
   "source": [
    "import csv\n",
    "\n",
    "for i in range(7):\n",
    "    file = datapath+'/'+filenames[i]\n",
    "    \n",
    "    with open(file,'r',encoding=\"utf-8\") as csvfile:\n",
    "        reader = csv.reader(csvfile,delimiter='\\t')\n",
    "        rows = [row for row in reader]\n",
    "    \n",
    "    \n",
    "    bad_rows=[]\n",
    "    bad_line_num = []\n",
    "    count =0\n",
    "    for row in rows[1:]:\n",
    "        userid = row[0]\n",
    "        userfeature =row[1]\n",
    "        feature_split = userfeature.split(':')\n",
    "        if len(feature_split)!=12:\n",
    "            count+=1\n",
    "            # print(row)\n",
    "            bad_rows.append(row)\n",
    "            bad_line_num.append(count) \n",
    "\n",
    "    print(file,len(rows),len(bad_rows))"
   ]
  },
  {
   "cell_type": "code",
   "execution_count": 31,
   "id": "a6eaacf4-7f09-4eb6-8c63-9d4d2b06ae3d",
   "metadata": {
    "tags": []
   },
   "outputs": [
    {
     "data": {
      "text/plain": [
       "22"
      ]
     },
     "execution_count": 31,
     "metadata": {},
     "output_type": "execute_result"
    }
   ],
   "source": [
    "bad_line_num[0]"
   ]
  },
  {
   "cell_type": "code",
   "execution_count": 39,
   "id": "a826d52a-74f1-4167-b32f-a88e2c5cdf80",
   "metadata": {
    "tags": []
   },
   "outputs": [
    {
     "name": "stdout",
     "output_type": "stream",
     "text": [
      "feature 0 ['noteId', -1, 0, 32]\n",
      "feature 1 ['isVideo', 0, 0, 8]\n",
      "feature 2 ['titleLen', -1, 0, 8]\n",
      "feature 3 ['descLen', -1, 0, 8]\n",
      "feature 4 ['duration', -1, 0, 8]\n",
      "feature 5 ['imgNum', -1, 0, 8]\n",
      "feature 6 ['authorId', -1, 0, 32]\n",
      "feature 7 ['authorAge', -1, 0, 32]\n",
      "feature 8 ['authorGender', 2, 0, 32]\n",
      "feature 9 ['authorGroup', -1, 0, 8]\n",
      "feature 10 ['authorPlatform', -1, 0, 8]\n",
      "feature 11 ['authorTenure', -1, 0, 8]\n",
      "feature 12 ['authorFrequentCity', -1, 0, 32]\n",
      "feature 13 ['authorFrequentCityTier', -1, 0, 32]\n",
      "feature 14 ['isMcn', -1, 0, 4]\n",
      "feature 15 ['isRedVip', -1, 0, 4]\n",
      "feature 16 ['mcnId', -1, 0, 16]\n",
      "feature 17 ['authorFinalLabel', -1, 0, 4]\n",
      "feature 18 ['is_goods_note', 0, 0, 8]\n",
      "feature 19 ['purpose_id', -1, 0, 16]\n",
      "feature 20 ['predict_city', -1, 0, 16]\n",
      "feature 21 ['predict_city_group', -1, 0, 16]\n",
      "feature 22 ['intention_lv1', -1, 0, 16]\n",
      "feature 23 ['intention_lv2', -1, 0, 16]\n",
      "feature 24 ['tag_info', -1, -1, 16]\n",
      "feature 25 ['poi_id', -1, 0, 16]\n",
      "feature 26 ['ner_v4', -1, -1, 32]\n",
      "feature 27 ['note_information_v2_level', -1, 0, 16]\n",
      "feature 28 ['note_unfriendly_score', 0, 0, 1, 'float']\n",
      "feature 29 ['note_unfriendly_comment_num', 0, 0, 1, 'int']\n",
      "feature 30 ['neg_emotion_score', 0, 0, 1, 'float']\n",
      "feature 31 ['conflict_score', 0, 0, 1, 'float']\n",
      "feature 32 ['gender_conflict_score', 0, 0, 1, 'float']\n",
      "feature 33 ['afraid_emotion_score', 0, 0, 1, 'float']\n",
      "feature 34 ['surprising_emotion_score', 0, 0, 1, 'float']\n",
      "feature 35 ['id_1000', -1, 0, 8]\n",
      "feature 36 ['id_10000', -1, 0, 8]\n",
      "feature 37 ['id_1k_1', -1, 0, 8]\n",
      "feature 38 ['id_10w_1', -1, 0, 8]\n",
      "feature 39 ['id_1k_2', -1, 0, 8]\n",
      "feature 40 ['id_10w_2', -1, 0, 8]\n",
      "feature 41 ['id_1k_3', -1, 0, 8]\n",
      "feature 42 ['id_10w_3', -1, 0, 8]\n",
      "feature 43 ['kmeans_id_1k', -1, 0, 8]\n",
      "feature 44 ['kmeans_id_1w', -1, 0, 8]\n",
      "feature 45 ['kmeans_id_10w', -1, 0, 8]\n",
      "feature 46 ['kmeans_id_50w', -1, 0, 8]\n",
      "feature 47 ['greedy_id_80', -1, 0, 8]\n",
      "feature 48 ['tax', -1, 0, 32]\n",
      "feature 49 ['ntGen2', -1, 0, 16]\n",
      "feature 50 ['note_conception_v1', -1, 0, 16]\n",
      "feature 51 ['noteTagV3', -1, -1, 32]\n"
     ]
    }
   ],
   "source": [
    "notefeatures=[\n",
    "    [\"noteId\", -1, 0, 32],\n",
    "    [\"isVideo\",  0, 0, 8],\n",
    "    [\"titleLen\", -1, 0, 8],\n",
    "    [\"descLen\", -1, 0, 8],\n",
    "    [\"duration\", -1, 0, 8],\n",
    "    [\"imgNum\", -1, 0, 8],\n",
    "    [\"authorId\", -1, 0, 32],\n",
    "    [\"authorAge\", -1, 0, 32],\n",
    "    [\"authorGender\", 2, 0, 32],\n",
    "    [\"authorGroup\", -1, 0, 8],\n",
    "    [\"authorPlatform\", -1, 0, 8],\n",
    "    [\"authorTenure\", -1, 0, 8],\n",
    "    [\"authorFrequentCity\", -1, 0, 32],\n",
    "    [\"authorFrequentCityTier\", -1, 0, 32],\n",
    "    [\"isMcn\", -1, 0, 4],\n",
    "    [\"isRedVip\", -1, 0, 4],\n",
    "    [\"mcnId\", -1, 0, 16],\n",
    "    [\"authorFinalLabel\", -1, 0, 4],\n",
    "    [\"is_goods_note\", 0, 0, 8],\n",
    "    [\"purpose_id\", -1, 0, 16],\n",
    "    [\"predict_city\", -1, 0, 16],\n",
    "    [\"predict_city_group\", -1, 0, 16],\n",
    "    [\"intention_lv1\",  -1, 0, 16],\n",
    "    [\"intention_lv2\", -1, 0, 16],\n",
    "    [\"tag_info\", -1, -1, 16],\n",
    "    [\"poi_id\", -1, 0, 16],\n",
    "    [\"ner_v4\", -1, -1, 32],\n",
    "    [\"note_information_v2_level\", -1, 0, 16],\n",
    "    [\"note_unfriendly_score\", 0, 0, 1, \"float\"],\n",
    "    [\"note_unfriendly_comment_num\", 0, 0, 1,\"int\"],\n",
    "    [\"neg_emotion_score\", 0, 0, 1, \"float\"],\n",
    "    [\"conflict_score\", 0, 0, 1, \"float\"],\n",
    "    [\"gender_conflict_score\", 0, 0, 1, \"float\"],\n",
    "    [\"afraid_emotion_score\", 0, 0, 1, \"float\"],\n",
    "    [\"surprising_emotion_score\", 0, 0, 1, \"float\"],\n",
    "    [\"id_1000\", -1, 0, 8],\n",
    "    [\"id_10000\", -1, 0, 8],\n",
    "    [\"id_1k_1\", -1, 0, 8],\n",
    "    [\"id_10w_1\", -1, 0, 8],\n",
    "    [\"id_1k_2\", -1, 0, 8],\n",
    "    [\"id_10w_2\", -1, 0, 8],\n",
    "    [\"id_1k_3\", -1, 0, 8],\n",
    "    [\"id_10w_3\", -1, 0, 8],\n",
    "    [\"kmeans_id_1k\", -1, 0, 8],\n",
    "    [\"kmeans_id_1w\", -1, 0, 8],\n",
    "    [\"kmeans_id_10w\", -1, 0, 8],\n",
    "    [\"kmeans_id_50w\", -1, 0, 8],\n",
    "    [\"greedy_id_80\", -1, 0, 8],\n",
    "    [\"tax\", -1, 0, 32],\n",
    "    [\"ntGen2\", -1, 0, 16],\n",
    "    [\"note_conception_v1\", -1, 0, 16],\n",
    "    [\"noteTagV3\", -1, -1, 32]\n",
    "  ]\n",
    "for i in range(len(notefeatures)):\n",
    "    print('feature',i,notefeatures[i])"
   ]
  },
  {
   "cell_type": "code",
   "execution_count": 37,
   "id": "7baf063e-ff7a-4355-a602-78c45185c37c",
   "metadata": {
    "tags": []
   },
   "outputs": [
    {
     "name": "stdout",
     "output_type": "stream",
     "text": [
      "feature 0 64b3e9c9000000001c00fc72\n",
      "feature 1 0\n",
      "feature 2 9\n",
      "feature 3 8\n",
      "feature 4 -1\n",
      "feature 5 1\n",
      "feature 6 5e01851b0000000001006ea4\n",
      "feature 7 19\n",
      "feature 8 1\n",
      "feature 9 普通用户组\n",
      "feature 10 iOS\n",
      "feature 11 existing users\n",
      "feature 12 武汉\n",
      "feature 13 新一线城市\n",
      "feature 14 0\n",
      "feature 15 -1\n",
      "feature 16 -1\n",
      "feature 17 3\n",
      "feature 18 0\n",
      "feature 19 100\n",
      "feature 20 -1\n",
      "feature 21 -1\n",
      "feature 22 分享外在\n",
      "feature 23 分享外在\n",
      "feature 24 5e7083e80000000001001363\n",
      "feature 25 -1\n",
      "feature 26 -1\n",
      "feature 27 1\n",
      "feature 28 0.049915846\n",
      "feature 29 0\n",
      "feature 30 0.0\n",
      "feature 31 0.0\n",
      "feature 32 0.0\n",
      "feature 33 0.0\n",
      "feature 34 0.0\n",
      "feature 35 0\n",
      "feature 36 8473\n",
      "feature 37 -1\n",
      "feature 38 -1\n",
      "feature 39 -1\n",
      "feature 40 -1\n",
      "feature 41 -1\n",
      "feature 42 -1\n",
      "feature 43 519\n",
      "feature 44 6399\n",
      "feature 45 22200\n",
      "feature 46 2829\n",
      "feature 47 958646\n",
      "feature 48 272\n",
      "feature 49 非男\n",
      "feature 50 372\n",
      "feature 51 le\n"
     ]
    }
   ],
   "source": [
    "tmp = rows[1][1].split(':')\n",
    "for i in range(len(tmp)):\n",
    "    print('feature',i, tmp[i])"
   ]
  },
  {
   "cell_type": "code",
   "execution_count": 38,
   "id": "b4568694-ee98-435f-a130-29c3f011eb37",
   "metadata": {
    "tags": []
   },
   "outputs": [
    {
     "name": "stdout",
     "output_type": "stream",
     "text": [
      "feature 0 645621a400000000130343ca\n",
      "feature 1 0\n",
      "feature 2 18\n",
      "feature 3 372\n",
      "feature 4 -1\n",
      "feature 5 10\n",
      "feature 6 627a523a0000000010008668\n",
      "feature 7 23\n",
      "feature 8 1\n",
      "feature 9 普通用户组\n",
      "feature 10 iOS\n",
      "feature 11 existing users\n",
      "feature 12 香港\n",
      "feature 13 未知\n",
      "feature 14 0\n",
      "feature 15 -1\n",
      "feature 16 -1\n",
      "feature 17 3\n",
      "feature 18 0\n",
      "feature 19 103\n",
      "feature 20 首尔\n",
      "feature 21 未知\n",
      "feature 22 评价\n",
      "feature 23 推荐测评\n",
      "feature 24 6260daf2000000000100b7da,5bfe89010180130001d74e62,58ad0997805d89755e4ffe80,5fc085970000000001007114,5be259bb1305d8000173942a,5d2c57f10000000018021c89,60f5b5af0000000001004c51,53c945e8b4c4d60d75e739cd,5cf6338a000000000f02110d,617f4620000000000101e871,6227782b0000000001003470,62620d2d0000000001002f66,5c67e7de000000000e03f551,6166dfd10000000001000058,531fc8e8b4c4d63cbef2111d,5c5ac606000000001c0070e6,59bf4b85e39faf3717682a39,5a62a6cae39faf575397e85a\n",
      "feature 25 5832e6b5c9e2ee6611478f45\n",
      "feature 26 马卡龙色系,包包,fennec,卡包,韩国,小众,品牌,探店,圣水洞,旅游,钱包,春天,夏天,温柔,圣水站,4号出口,10\n",
      "feature 27 00,19\n",
      "feature 28 00,13\n",
      "feature 29 00,14\n",
      "feature 30 00,12周年,特别款,银灰色,尺寸,店里,链条,ins风,款式,fennec\u0001卡包,小众\u0001品牌,韩国\u0001品牌,小众\u0001包包,韩国\u0001包包,圣水洞\u0001探店,韩国\u0001卡包,韩国\u0001旅游,温柔\u0001卡包,夏天\u0001卡包,春天\u0001卡包,马卡龙色系\u0001卡包,小众\u0001卡包,ins风\u0001马卡龙色系,马卡龙色系\u0001包包,ins风\u0001卡包,卡包\u0001款式\n",
      "feature 31 2\n",
      "feature 32 0.056799125\n",
      "feature 33 1\n",
      "feature 34 0.07692308\n",
      "feature 35 0.0\n",
      "feature 36 0.0\n",
      "feature 37 0.0\n",
      "feature 38 0.0\n",
      "feature 39 854\n",
      "feature 40 8792\n",
      "feature 41 807\n",
      "feature 42 34521\n",
      "feature 43 123\n",
      "feature 44 19002\n",
      "feature 45 626\n",
      "feature 46 12099\n",
      "feature 47 391\n",
      "feature 48 213\n",
      "feature 49 74978\n",
      "feature 50 10968\n",
      "feature 51 64847\n",
      "feature 52 128\n",
      "feature 53 非男\n",
      "feature 54 91\n",
      "feature 55 钱包,韩国留学生,卡包,韩国生活,首尔探店,韩国购物,韩国,韩国旅游\n"
     ]
    }
   ],
   "source": [
    "tmp = bad_rows[0][1].split(':')\n",
    "for i in range(len(tmp)):\n",
    "    print('feature',i, tmp[i])"
   ]
  },
  {
   "cell_type": "code",
   "execution_count": 34,
   "id": "e697174d-4096-4e5a-ac38-1e7135d5a9b0",
   "metadata": {
    "tags": []
   },
   "outputs": [
    {
     "name": "stdout",
     "output_type": "stream",
     "text": [
      "56\n"
     ]
    },
    {
     "data": {
      "text/plain": [
       "['645621a400000000130343ca',\n",
       " '0',\n",
       " '18',\n",
       " '372',\n",
       " '-1',\n",
       " '10',\n",
       " '627a523a0000000010008668',\n",
       " '23',\n",
       " '1',\n",
       " '普通用户组',\n",
       " 'iOS',\n",
       " 'existing users',\n",
       " '香港',\n",
       " '未知',\n",
       " '0',\n",
       " '-1',\n",
       " '-1',\n",
       " '3',\n",
       " '0',\n",
       " '103',\n",
       " '首尔',\n",
       " '未知',\n",
       " '评价',\n",
       " '推荐测评',\n",
       " '6260daf2000000000100b7da,5bfe89010180130001d74e62,58ad0997805d89755e4ffe80,5fc085970000000001007114,5be259bb1305d8000173942a,5d2c57f10000000018021c89,60f5b5af0000000001004c51,53c945e8b4c4d60d75e739cd,5cf6338a000000000f02110d,617f4620000000000101e871,6227782b0000000001003470,62620d2d0000000001002f66,5c67e7de000000000e03f551,6166dfd10000000001000058,531fc8e8b4c4d63cbef2111d,5c5ac606000000001c0070e6,59bf4b85e39faf3717682a39,5a62a6cae39faf575397e85a',\n",
       " '5832e6b5c9e2ee6611478f45',\n",
       " '马卡龙色系,包包,fennec,卡包,韩国,小众,品牌,探店,圣水洞,旅游,钱包,春天,夏天,温柔,圣水站,4号出口,10',\n",
       " '00,19',\n",
       " '00,13',\n",
       " '00,14',\n",
       " '00,12周年,特别款,银灰色,尺寸,店里,链条,ins风,款式,fennec\\x01卡包,小众\\x01品牌,韩国\\x01品牌,小众\\x01包包,韩国\\x01包包,圣水洞\\x01探店,韩国\\x01卡包,韩国\\x01旅游,温柔\\x01卡包,夏天\\x01卡包,春天\\x01卡包,马卡龙色系\\x01卡包,小众\\x01卡包,ins风\\x01马卡龙色系,马卡龙色系\\x01包包,ins风\\x01卡包,卡包\\x01款式',\n",
       " '2',\n",
       " '0.056799125',\n",
       " '1',\n",
       " '0.07692308',\n",
       " '0.0',\n",
       " '0.0',\n",
       " '0.0',\n",
       " '0.0',\n",
       " '854',\n",
       " '8792',\n",
       " '807',\n",
       " '34521',\n",
       " '123',\n",
       " '19002',\n",
       " '626',\n",
       " '12099',\n",
       " '391',\n",
       " '213',\n",
       " '74978',\n",
       " '10968',\n",
       " '64847',\n",
       " '128',\n",
       " '非男',\n",
       " '91',\n",
       " '钱包,韩国留学生,卡包,韩国生活,首尔探店,韩国购物,韩国,韩国旅游']"
      ]
     },
     "execution_count": 34,
     "metadata": {},
     "output_type": "execute_result"
    }
   ],
   "source": [
    "print(len(bad_rows[0][1].split(':')))\n",
    "bad_rows[0][1].split(':')"
   ]
  },
  {
   "cell_type": "code",
   "execution_count": null,
   "id": "6e62cd7c-6b5c-48ff-9089-9f01129ce29e",
   "metadata": {},
   "outputs": [],
   "source": []
  }
 ],
 "metadata": {
  "kernelspec": {
   "display_name": "Python 3 (ipykernel)",
   "language": "python",
   "name": "python3"
  },
  "language_info": {
   "codemirror_mode": {
    "name": "ipython",
    "version": 3
   },
   "file_extension": ".py",
   "mimetype": "text/x-python",
   "name": "python",
   "nbconvert_exporter": "python",
   "pygments_lexer": "ipython3",
   "version": "3.10.9"
  }
 },
 "nbformat": 4,
 "nbformat_minor": 5
}
