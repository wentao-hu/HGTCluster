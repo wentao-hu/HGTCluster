{
 "cells": [
  {
   "cell_type": "markdown",
   "id": "c72d7c6d-88ab-4522-b61a-45503a03428f",
   "metadata": {},
   "source": [
    "## generate fake node data"
   ]
  },
  {
   "cell_type": "code",
   "execution_count": 15,
   "id": "13f3a400-2dba-4b4b-884a-db27eadf9890",
   "metadata": {},
   "outputs": [],
   "source": [
    "import numpy as np\n",
    "import pandas as pd\n",
    "from random import choice\n",
    "import random\n",
    "user_ids = list(range(10000))\n",
    "note_ids = list(range(10000,20000))\n",
    "author_ids = list(range(10000))"
   ]
  },
  {
   "cell_type": "code",
   "execution_count": 16,
   "id": "c02894d7-5838-4eab-9dbf-4e643d0aae87",
   "metadata": {},
   "outputs": [],
   "source": [
    "user_list = []\n",
    "for id in user_ids:\n",
    "    age = random.randint(10,50)\n",
    "    user_data = (id,age)\n",
    "    user_list.append(user_data)"
   ]
  },
  {
   "cell_type": "code",
   "execution_count": 17,
   "id": "7165444e-5829-4066-8eee-684bf3648e17",
   "metadata": {},
   "outputs": [],
   "source": [
    "note_list=[]\n",
    "for id in note_ids:\n",
    "    views = random.randint(200,1000)\n",
    "    data = (id,views)\n",
    "    note_list.append(data)"
   ]
  },
  {
   "cell_type": "code",
   "execution_count": 18,
   "id": "f89a362b-5c91-40c7-9130-5f1b737aeb77",
   "metadata": {},
   "outputs": [],
   "source": [
    "author_list = []\n",
    "for id in author_ids:\n",
    "    popularity = random.random()\n",
    "    data = (id,popularity)\n",
    "    author_list.append(data)"
   ]
  },
  {
   "cell_type": "code",
   "execution_count": 19,
   "id": "4d0e5bda-befa-4b3b-ba34-e7a6510b03a8",
   "metadata": {},
   "outputs": [
    {
     "data": {
      "text/plain": [
       "10000"
      ]
     },
     "execution_count": 19,
     "metadata": {},
     "output_type": "execute_result"
    }
   ],
   "source": [
    "len(author_list)"
   ]
  },
  {
   "cell_type": "code",
   "execution_count": 20,
   "id": "5d00577b-43b3-46d5-8c3f-a3cf1d69ecb4",
   "metadata": {},
   "outputs": [
    {
     "name": "stdout",
     "output_type": "stream",
     "text": [
      "500\n"
     ]
    }
   ],
   "source": [
    "unit = len(author_list)//20\n",
    "print(unit)\n",
    "for i in range(20):\n",
    "    random.shuffle(author_list)\n",
    "    part_i= author_list[i*unit:(i+1)*unit]\n",
    "   \n",
    "    with open('fakenode5/fakeauthor5/part-{}.csv'.format(i),\"w\") as pos_f:\n",
    "        pos_f.write('id:int64'+'\\t'+'feature:string'+'\\n')\n",
    "    with open('fakenode5/fakeauthor5/part-{}.csv'.format(i),\"a\") as pos_f:\n",
    "        for line in part_i:\n",
    "            pos_f.write(str(line[0])+'\\t'+str(line[1]))\n",
    "            pos_f.write('\\n')"
   ]
  },
  {
   "cell_type": "code",
   "execution_count": 21,
   "id": "b9bb06b5-6f31-45a9-a1fc-954ac4e99242",
   "metadata": {},
   "outputs": [
    {
     "name": "stdout",
     "output_type": "stream",
     "text": [
      "500\n"
     ]
    }
   ],
   "source": [
    "unit = len(user_list)//20\n",
    "print(unit)\n",
    "for i in range(20):\n",
    "    random.shuffle(user_list)\n",
    "    part_i= user_list[i*unit:(i+1)*unit]\n",
    "   \n",
    "    with open('fakenode5/fakeuser5/part-{}.csv'.format(i),\"w\") as pos_f:\n",
    "        pos_f.write('id:int64'+'\\t'+'feature:string'+'\\n')\n",
    "    with open('fakenode5/fakeuser5/part-{}.csv'.format(i),\"a\") as pos_f:\n",
    "        for line in part_i:\n",
    "            pos_f.write(str(line[0])+'\\t'+str(line[1]))\n",
    "            pos_f.write('\\n')"
   ]
  },
  {
   "cell_type": "code",
   "execution_count": 22,
   "id": "509c0ce1-ad53-4bdd-9b81-020f65ea6645",
   "metadata": {},
   "outputs": [
    {
     "name": "stdout",
     "output_type": "stream",
     "text": [
      "500\n"
     ]
    }
   ],
   "source": [
    "unit = len(note_list)//20\n",
    "print(unit)\n",
    "for i in range(20):\n",
    "    random.shuffle(note_list)\n",
    "    part_i= note_list[i*unit:(i+1)*unit]\n",
    "   \n",
    "    with open('fakenode5/fakenote5/part-{}.csv'.format(i),\"w\") as pos_f:\n",
    "        pos_f.write('id:int64'+'\\t'+'feature:string'+'\\n')\n",
    "    with open('fakenode5/fakenote5/part-{}.csv'.format(i),\"a\") as pos_f:\n",
    "        for line in part_i:\n",
    "            pos_f.write(str(line[0])+'\\t'+str(line[1]))\n",
    "            pos_f.write('\\n')"
   ]
  },
  {
   "cell_type": "code",
   "execution_count": 9,
   "id": "ee8341dd-e893-4fa7-9237-133af4fb2087",
   "metadata": {},
   "outputs": [],
   "source": [
    "# import os\n",
    "# filenames = os.listdir('./fakenode/fakeuser')\n",
    "# filenames"
   ]
  },
  {
   "cell_type": "code",
   "execution_count": null,
   "id": "8aae543f-be4e-484f-9c3a-cf261efd52ed",
   "metadata": {},
   "outputs": [],
   "source": []
  }
 ],
 "metadata": {
  "kernelspec": {
   "display_name": "Python 3 (ipykernel)",
   "language": "python",
   "name": "python3"
  },
  "language_info": {
   "codemirror_mode": {
    "name": "ipython",
    "version": 3
   },
   "file_extension": ".py",
   "mimetype": "text/x-python",
   "name": "python",
   "nbconvert_exporter": "python",
   "pygments_lexer": "ipython3",
   "version": "3.10.9"
  }
 },
 "nbformat": 4,
 "nbformat_minor": 5
}
