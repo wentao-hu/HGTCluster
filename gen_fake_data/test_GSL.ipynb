{
 "cells": [
  {
   "cell_type": "code",
   "execution_count": 1,
   "metadata": {
    "tags": []
   },
   "outputs": [
    {
     "name": "stderr",
     "output_type": "stream",
     "text": [
      "2023-07-27 15:00:43.029087: I tensorflow/core/platform/cpu_feature_guard.cc:182] This TensorFlow binary is optimized to use available CPU instructions in performance-critical operations.\n",
      "To enable the following instructions: AVX2 FMA, in other operations, rebuild TensorFlow with the appropriate compiler flags.\n"
     ]
    },
    {
     "name": "stdout",
     "output_type": "stream",
     "text": [
      "2.13.0\n",
      "most time we use tf1, so we must disable_v2_behavior\n",
      "WARNING:tensorflow:From /Users/steven/anaconda3/lib/python3.10/site-packages/tensorflow/python/compat/v2_compat.py:107: disable_resource_variables (from tensorflow.python.ops.variable_scope) is deprecated and will be removed in a future version.\n",
      "Instructions for updating:\n",
      "non-resource variables are not supported in the long term\n"
     ]
    }
   ],
   "source": [
    "import tensorflow \n",
    "print(tensorflow.__version__)\n",
    "print('most time we use tf1, so we must disable_v2_behavior')\n",
    "import tensorflow.compat.v1 as tf\n",
    "tf.disable_v2_behavior()"
   ]
  },
  {
   "cell_type": "code",
   "execution_count": 3,
   "metadata": {},
   "outputs": [
    {
     "data": {
      "text/plain": [
       "{'src': [['src_node_user'],\n",
       "  ['src_node_user-hop0_out_pos_follow_note',\n",
       "   'src_node_user-hop0_out_pos_follow_user'],\n",
       "  ['src_node_user-hop0_out_pos_follow_note-hop1_in_pos_follow_note',\n",
       "   'src_node_user-hop0_out_pos_follow_user-hop1_in_pos_follow_user']],\n",
       " 'dst': [['dst_node_note'],\n",
       "  ['dst_node_note-hop0_in_pos_follow_note'],\n",
       "  ['dst_node_note-hop0_in_pos_follow_note-hop1_out_pos_follow_note',\n",
       "   'dst_node_note-hop0_in_pos_follow_note-hop1_out_pos_follow_user']]}"
      ]
     },
     "execution_count": 3,
     "metadata": {},
     "output_type": "execute_result"
    }
   ],
   "source": [
    "pos_alias_dict={'src': [['src_node_user'], ['src_node_user-hop0_out_pos_follow_note', 'src_node_user-hop0_out_pos_follow_user'], ['src_node_user-hop0_out_pos_follow_note-hop1_in_pos_follow_note', 'src_node_user-hop0_out_pos_follow_user-hop1_in_pos_follow_user']], 'dst': [['dst_node_note'], ['dst_node_note-hop0_in_pos_follow_note'], ['dst_node_note-hop0_in_pos_follow_note-hop1_out_pos_follow_note', 'dst_node_note-hop0_in_pos_follow_note-hop1_out_pos_follow_user']]}\n",
    "pos_alias_dict"
   ]
  },
  {
   "cell_type": "code",
   "execution_count": 8,
   "metadata": {},
   "outputs": [
    {
     "data": {
      "text/plain": [
       "'src_node_user'"
      ]
     },
     "execution_count": 8,
     "metadata": {},
     "output_type": "execute_result"
    }
   ],
   "source": [
    "pos_alias_dict['src'][0][-1]"
   ]
  },
  {
   "cell_type": "code",
   "execution_count": 1,
   "metadata": {},
   "outputs": [
    {
     "data": {
      "text/plain": [
       "{'dst': [[['note']],\n",
       "  [['note', 'pos_follow_note']],\n",
       "  [['note', 'pos_follow_note', 'pos_follow_note'],\n",
       "   ['note', 'pos_follow_note', 'pos_follow_user']]],\n",
       " 'src': [[['user']],\n",
       "  [['user', 'pos_follow_note'], ['user', 'pos_follow_user']],\n",
       "  [['user', 'pos_follow_note', 'pos_follow_note'],\n",
       "   ['user', 'pos_follow_user', 'pos_follow_user']]]}"
      ]
     },
     "execution_count": 1,
     "metadata": {},
     "output_type": "execute_result"
    }
   ],
   "source": [
    "pos_relation_path_dict={'src': [[['user']], [['user', 'pos_follow_note'], ['user', 'pos_follow_user']], [['user', 'pos_follow_note', 'pos_follow_note'], ['user', 'pos_follow_user', 'pos_follow_user']]],\n",
    "                        'dst': [[['note']], [['note', 'pos_follow_note']], [['note', 'pos_follow_note', 'pos_follow_note'], ['note', 'pos_follow_note', 'pos_follow_user']]]}\n",
    "pos_relation_path_dict"
   ]
  },
  {
   "cell_type": "code",
   "execution_count": 2,
   "metadata": {
    "tags": []
   },
   "outputs": [
    {
     "data": {
      "text/plain": [
       "{'dst': [[['note']],\n",
       "  [['note', 'user']],\n",
       "  [['note', 'user', 'note'], ['note', 'user', 'author']]],\n",
       " 'src': [[['user']],\n",
       "  [['user', 'note'], ['user', 'author']],\n",
       "  [['user', 'note', 'user'], ['user', 'author', 'user']]]}"
      ]
     },
     "execution_count": 2,
     "metadata": {},
     "output_type": "execute_result"
    }
   ],
   "source": [
    "pos_node_type_path_dict={'src': [[['user']], [['user', 'note'], ['user', 'author']], [['user', 'note', 'user'], ['user', 'author', 'user']]], \n",
    "                         'dst': [[['note']], [['note', 'user']], [['note', 'user', 'note'], ['note', 'user', 'author']]]}\n",
    "pos_node_type_path_dict"
   ]
  },
  {
   "cell_type": "code",
   "execution_count": 3,
   "metadata": {
    "tags": []
   },
   "outputs": [
    {
     "data": {
      "text/plain": [
       "{'dst': [[1], [2]], 'src': [[2], [1, 1]]}"
      ]
     },
     "execution_count": 3,
     "metadata": {},
     "output_type": "execute_result"
    }
   ],
   "source": [
    "pos_relation_count_dict={'src': [[2], [1, 1]], 'dst': [[1], [2]]}\n",
    "pos_relation_count_dict"
   ]
  },
  {
   "cell_type": "code",
   "execution_count": 5,
   "metadata": {
    "tags": []
   },
   "outputs": [
    {
     "name": "stdout",
     "output_type": "stream",
     "text": [
      "\n",
      " [[['user']], [['user', 'pos_follow_note'], ['user', 'pos_follow_user']], [['user', 'pos_follow_note', 'pos_follow_note'], ['user', 'pos_follow_user', 'pos_follow_user']]]\n",
      "\n",
      " [[['user']], [['user', 'note'], ['user', 'author']], [['user', 'note', 'user'], ['user', 'author', 'user']]]\n",
      "\n",
      " [[2], [1, 1]]\n"
     ]
    }
   ],
   "source": [
    "pos_src_relation = pos_relation_path_dict['src']\n",
    "print(\"\\n\",pos_src_relation)\n",
    "pos_src_node_type = pos_node_type_path_dict['src']\n",
    "print(\"\\n\",pos_src_node_type)\n",
    "pos_src_relation_count =  pos_relation_count_dict['src']\n",
    "print(\"\\n\",pos_src_relation_count)"
   ]
  },
  {
   "cell_type": "code",
   "execution_count": 6,
   "metadata": {},
   "outputs": [],
   "source": [
    "x_relation_list = pos_src_relation\n",
    "node_type_path=pos_src_node_type\n",
    "relation_count = pos_src_relation_count"
   ]
  },
  {
   "cell_type": "code",
   "execution_count": 13,
   "metadata": {},
   "outputs": [
    {
     "data": {
      "text/plain": [
       "[[2], [1, 1]]"
      ]
     },
     "execution_count": 13,
     "metadata": {},
     "output_type": "execute_result"
    }
   ],
   "source": [
    "relation_count"
   ]
  },
  {
   "cell_type": "code",
   "execution_count": 11,
   "metadata": {},
   "outputs": [
    {
     "data": {
      "text/plain": [
       "[[['user']],\n",
       " [['user', 'pos_follow_note'], ['user', 'pos_follow_user']],\n",
       " [['user', 'pos_follow_note', 'pos_follow_note'],\n",
       "  ['user', 'pos_follow_user', 'pos_follow_user']]]"
      ]
     },
     "execution_count": 11,
     "metadata": {},
     "output_type": "execute_result"
    }
   ],
   "source": [
    "x_relation_list"
   ]
  },
  {
   "cell_type": "code",
   "execution_count": 12,
   "metadata": {},
   "outputs": [
    {
     "data": {
      "text/plain": [
       "[[['user']],\n",
       " [['user', 'note'], ['user', 'author']],\n",
       " [['user', 'note', 'user'], ['user', 'author', 'user']]]"
      ]
     },
     "execution_count": 12,
     "metadata": {},
     "output_type": "execute_result"
    }
   ],
   "source": [
    "node_type_path"
   ]
  },
  {
   "cell_type": "code",
   "execution_count": 22,
   "metadata": {
    "tags": []
   },
   "outputs": [
    {
     "name": "stdout",
     "output_type": "stream",
     "text": [
      "\n",
      "\n",
      " cur_hop_relation_count [2]\n",
      "====start conv for  hop 0     offset 0 start:end 0 2\n",
      "\n",
      "\n",
      " cur_hop_relation_count [1, 1]\n",
      "====start conv for  hop 1     offset 0 start:end 0 1\n",
      "====start conv for  hop 1     offset 1 start:end 1 2\n",
      "\n",
      "\n",
      " cur_hop_relation_count [2]\n",
      "====start conv for  hop 0     offset 0 start:end 0 2\n"
     ]
    }
   ],
   "source": [
    "depth=2\n",
    "for layer_idx in range(2): # for each conv layers.\n",
    "\n",
    "  num_root = 1 \n",
    "  \n",
    "  for hop in range(depth - layer_idx): \n",
    "    cur_hop_relation_count = relation_count[hop]\n",
    "    print('\\n\\n cur_hop_relation_count',cur_hop_relation_count)\n",
    "    tmp_nbr_vecs = []\n",
    "    cursor = 0\n",
    "    for offset in range(num_root): \n",
    "      neigh_relations = x_relation_list[hop+1][cursor:(cursor+cur_hop_relation_count[offset])]\n",
    "      neigh_node_type = node_type_path[hop+1][cursor:(cursor+cur_hop_relation_count[offset])] \n",
    "      print('====start conv for ', 'hop',hop,'    offset',offset, 'start:end', cursor,cursor+cur_hop_relation_count[offset]) \n",
    "      # print('neigh_relation is', neigh_relations)\n",
    "      # print('neigh_node_type is', neigh_node_type)\n",
    "      cursor += cur_hop_relation_count[offset]\n",
    "        \n",
    "    num_root = sum(relation_count[layer_idx])"
   ]
  },
  {
   "cell_type": "code",
   "execution_count": null,
   "metadata": {},
   "outputs": [],
   "source": []
  }
 ],
 "metadata": {
  "kernelspec": {
   "display_name": "Python 2",
   "language": "python",
   "name": "python2"
  },
  "language_info": {
   "codemirror_mode": {
    "name": "ipython",
    "version": 2
   },
   "file_extension": ".py",
   "mimetype": "text/x-python",
   "name": "python",
   "nbconvert_exporter": "python",
   "pygments_lexer": "ipython2",
   "version": "2.7.18"
  }
 },
 "nbformat": 4,
 "nbformat_minor": 5
}
